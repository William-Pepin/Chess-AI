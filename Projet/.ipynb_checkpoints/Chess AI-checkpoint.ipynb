{
 "cells": [
  {
   "cell_type": "code",
   "execution_count": null,
   "metadata": {},
   "outputs": [],
   "source": [
    "import chess\n",
    "import chess.engine\n",
    "import random\n",
    "import numpy"
   ]
  },
  {
   "cell_type": "code",
   "execution_count": null,
   "metadata": {
    "scrolled": true
   },
   "outputs": [],
   "source": [
    "# Traduction de l'échiquier\n",
    "\n",
    "# Dictionnaire représentant les index de l'échiquier\n",
    "squares_i = {\n",
    "    'a':0,\n",
    "    'b':1,\n",
    "    'c':2,\n",
    "    'd':3,\n",
    "    'e':4,\n",
    "    'f':5,\n",
    "    'g':6,\n",
    "    'h':7\n",
    "}\n",
    "\n",
    "# Prend en paramètre un chiffre entre 0 et 63, et le traduit en\n",
    "# tuple qui indique l'index du carré sur le jeu\n",
    "# par exemple 0 est traduit par A1 qui est ensuite traduit par (7,0)\n",
    "def translate_index(square):\n",
    "    letters = chess.square_name(square)\n",
    "    print(letters) # PRINT\n",
    "    return 8 - int(letters[1]), squares_i[letters[0]]\n",
    "\n",
    "print(translate_index(0)) # PRINT"
   ]
  },
  {
   "cell_type": "code",
   "execution_count": null,
   "metadata": {},
   "outputs": [],
   "source": [
    "# Création de l'échiquier de base\n",
    "# Utilise chess pour générer un jeu de base qui ensuite est traduit \n",
    "# en une matrice représentant les différentes pièces du jeux ainsi que les deplacements\n",
    "# des deux joueurs\n",
    "board = chess.Board()\n",
    "print(board) # PRINT"
   ]
  },
  {
   "cell_type": "code",
   "execution_count": null,
   "metadata": {},
   "outputs": [],
   "source": [
    "# Création du modèle de données de l'échiquier\n",
    "\n",
    "\n",
    "# Fonction permettant de traduire l'échiquier de base en 14 matrices différentes\n",
    "# représentant toutes les types de pièces sur le jeux ainsi quel les déplacements\n",
    "# des deux joueurs.\n",
    "# Retourne un \"array\" de 14 matrix contenant :\n",
    "# matrix  0 : \"Pawns\" des blancs\n",
    "# matrix  1 : \"Knights\" des blancs\n",
    "# matrix  2 : \"Bishops\" des blancs\n",
    "# matrix  3 : \"Rooks\" des blancs\n",
    "# matrix  4 : \"Queen\" du blanc\n",
    "# matrix  5 : \"King\" du blanc\n",
    "# matrix  6 : \"Pawns\" des noirs\n",
    "# matrix  7 : \"Knights\" des noirs\n",
    "# matrix  8 : \"Bishops\" des noirs\n",
    "# matrix  9 : \"Rooks\" des noirs\n",
    "# matrix 10 : \"Queen\" du noir\n",
    "# matrix 11 : \"King\" du noir\n",
    "# matrix 12 : Déplacements légales des blancs\n",
    "# matrix 13 : Déplacements légales des noirs\n",
    "def create_3d_matrix_representation(board):\n",
    "    \n",
    "    board_matrix = numpy.zeros((14,8,8), dtype=numpy.int8)\n",
    "    print(board_matrix) # PRINT\n",
    "    \n",
    "    for piece in chess.PIECE_TYPES: # Pour chaque type de pièce du jeu\n",
    "        print(piece) # PRINT\n",
    "        board_matrix[piece - 1] = create_matrix_by_piece(piece, chess.WHITE)\n",
    "        board_matrix[piece + 5] = create_matrix_by_piece(piece, chess.BLACK)\n",
    "    \n",
    "    board_matrix[12] = create_matrix_by_turn(chess.WHITE)\n",
    "    board_matrix[13] = create_matrix_by_turn(chess.BLACK)\n",
    "    return board_matrix\n",
    "\n",
    "\n",
    "# Fonction permettant de créer une matrix selon le type de pièce et la couleur du joueur\n",
    "# Prend le type de la pièce (de 0 à 5) et le tour du joueur (True or False)\n",
    "# Afin de recréer la matrix des pièces sur le jeu\n",
    "# Retourne une matrix identifiant les pièces sur le jeu\n",
    "def create_matrix_by_piece(piece, color):\n",
    "    matrix = numpy.zeros((8,8), dtype=numpy.int8)\n",
    "    for square in board.pieces(piece, color):\n",
    "        print(square) # PRINT\n",
    "        i = numpy.unravel_index(square,(8, 8))\n",
    "        print(i) # PRINT\n",
    "        matrix[7 - i[0]][i[1]] = 1\n",
    "    return matrix\n",
    "\n",
    "\n",
    "# Fonction permettant de créer une matrix selon les déplacements légales\n",
    "# du joueur.\n",
    "# Retourne une matrix identifiant chaque carré étant possible d'être jouer par le joueur\n",
    "def create_matrix_by_turn(turn):\n",
    "    temp = board.turn\n",
    "    matrix = numpy.zeros((8,8), dtype=numpy.int8)\n",
    "    board.turn = turn\n",
    "    for move in board.legal_moves:\n",
    "        i, j = translate_index(move.to_square)\n",
    "        matrix[i][j] = 1\n",
    "    board.turn = temp\n",
    "    return matrix\n",
    "\n",
    "print(create_3d_matrix_representation(board))"
   ]
  },
  {
   "cell_type": "code",
   "execution_count": null,
   "metadata": {},
   "outputs": [],
   "source": [
    "# Création du système de neurone à l'aide de Tensorflow\n",
    "# Importation de TensorFlow pour utiliser l'API Keras\n",
    "# Utilisé pour le système de neurones\n",
    "import tensorflow.keras.models as models\n",
    "import tensorflow.keras.layers as layers\n",
    "import tensorflow.keras.utils as utils\n",
    "import tensorflow.keras.optimizers as optimizers"
   ]
  },
  {
   "cell_type": "code",
   "execution_count": null,
   "metadata": {},
   "outputs": [],
   "source": [
    "def build_model(conv_size, conv_depth):\n",
    "    board_matrix = layers.Input(shape=(14,8,8))\n",
    "    \n",
    "    # Convulational Neural Networks\n",
    "    # Détecte des \"patterns\" dans les matrices\n",
    "    # ---\n",
    "    # Utilise tout d'abord un \"convulational layer\" pour repérer les \"patterns\" dans les matrices\n",
    "    # Le convulational layer utilise un filtre (qui est une matrice) et utilise ce filtre pour\n",
    "    # \"scanner\" la matrice afin d'obtenir une deuxième matrice.\n",
    "    # ---\n",
    "    # Ensuite, un \"flattening layer\" utilise la matrice nouvellement créer par le \"convulational layer\"\n",
    "    # et transforme la matrice de deux dimensions à un tableau à une dimension, afin d'être traiter par les\n",
    "    # \"layers\" suivants.\n",
    "    # ---\n",
    "    # Ensuite, un \"dense layer\" permet d'effectuer, grâce aux noeuds dans le \"layer\", des opérations logiques\n",
    "    # AND OR ou XOR, afin de consolider les valeurs convergentes et patterns.\n",
    "    # Le type ReLU permet d'être plus rapide dans le choix des valeurs, retourne 64 unités.\n",
    "    # ---\n",
    "    # Ensuite, le dernier \"dense layer\" permet de consolider les données et de sortir une seule unité.\n",
    "    # soit le choix le plus \"optimal\". Utilise un Sigmoid au lieu d'un ReLU, puisqu'il travail\n",
    "    # avec moins de données.\n",
    "    x = board_matrix\n",
    "    for _ in range(conv_depth):\n",
    "        x = layers.Conv2D(filters=conv_size, kernel_size=3, padding='same', activation='relu', data_format='channels_first')(x)\n",
    "        x = layers.Flatten()(x)\n",
    "        x = layers.Dense(64, 'relu')(x)\n",
    "        x = layers.Dense(1, 'sigmoid')(x)\n",
    "        \n",
    "        return models.Model(inputs=board_matrix, outputs=x)"
   ]
  },
  {
   "cell_type": "code",
   "execution_count": null,
   "metadata": {},
   "outputs": [],
   "source": [
    "model = build_model(32, 4)\n",
    "utils.plot_model(model, to_file='model.png', show_shapes=True, show_layer_names=True)"
   ]
  },
  {
   "cell_type": "code",
   "execution_count": null,
   "metadata": {},
   "outputs": [],
   "source": [
    "import tensorflow.keras.callbacks as callbacks\n",
    "\n",
    "\n",
    "def get_dataset():\n",
    "\tcontainer = numpy.load('dataset.npz')\n",
    "\tb, v = container['b'], container['v']\n",
    "\tv = numpy.asarray(v / abs(v).max() / 2 + 0.5, dtype=numpy.float32)\n",
    "\treturn b, v\n",
    "\n",
    "\n",
    "x_train, y_train = get_dataset()\n",
    "print(x_train.shape)\n",
    "print(y_train.shape)"
   ]
  },
  {
   "cell_type": "code",
   "execution_count": null,
   "metadata": {},
   "outputs": [],
   "source": [
    "import os\n",
    "os.environ['KMP_DUPLICATE_LIB_OK']='True'\n",
    "\n",
    "model.compile(optimizer=optimizers.Adam(5e-4), loss='mean_squared_error')\n",
    "model.summary()\n",
    "model.fit(x_train, y_train,\n",
    "          batch_size=2048,\n",
    "          epochs=1000,\n",
    "          verbose=1,\n",
    "          validation_split=0.1,\n",
    "          callbacks=[callbacks.ReduceLROnPlateau(monitor='loss', patience=10),\n",
    "                     callbacks.EarlyStopping(monitor='loss', patience=15, min_delta=1e-4)])\n",
    "\n",
    "model.save('model.h5')"
   ]
  },
  {
   "cell_type": "code",
   "execution_count": null,
   "metadata": {},
   "outputs": [],
   "source": []
  }
 ],
 "metadata": {
  "kernelspec": {
   "display_name": "Python 3",
   "language": "python",
   "name": "python3"
  },
  "language_info": {
   "codemirror_mode": {
    "name": "ipython",
    "version": 3
   },
   "file_extension": ".py",
   "mimetype": "text/x-python",
   "name": "python",
   "nbconvert_exporter": "python",
   "pygments_lexer": "ipython3",
   "version": "3.8.6"
  }
 },
 "nbformat": 4,
 "nbformat_minor": 4
}
